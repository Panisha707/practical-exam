{
  "nbformat": 4,
  "nbformat_minor": 0,
  "metadata": {
    "colab": {
      "name": "Untitled41.ipynb",
      "provenance": []
    },
    "kernelspec": {
      "name": "python3",
      "display_name": "Python 3"
    },
    "language_info": {
      "name": "python"
    }
  },
  "cells": [
    {
      "cell_type": "code",
      "execution_count": 1,
      "metadata": {
        "colab": {
          "base_uri": "https://localhost:8080/",
          "height": 331
        },
        "id": "IoF5iv7lnvfU",
        "outputId": "878a1218-bbc4-4a8c-80ef-4dc1d158c6d4"
      },
      "outputs": [
        {
          "output_type": "stream",
          "name": "stdout",
          "text": [
            "5.0\n",
            "Angle between line and x-axis 54 degree\n"
          ]
        },
        {
          "output_type": "execute_result",
          "data": {
            "text/plain": [
              "(1.85, 5.15, 2.8, 7.2)"
            ]
          },
          "metadata": {},
          "execution_count": 1
        },
        {
          "output_type": "display_data",
          "data": {
            "image/png": "[encoded data removed]",
            "text/plain": [
              "<Figure size 432x288 with 1 Axes>"
            ]
          },
          "metadata": {
            "needs_background": "light"
          }
        }
      ],
      "source": [
        "import numpy as np\n",
        "import matplotlib.pyplot as plt\n",
        "import math \n",
        "from numpy import linalg as LNG\n",
        "\n",
        "A = np.array([2,3])\n",
        "B = np.array([5,7])\n",
        "# Reading co-ordinates\n",
        "A=np.array([2,3])\n",
        "B=np.array([5,7])\n",
        "V=np.linalg.norm(B-A)\n",
        "print(V)\n",
        "\n",
        "\n",
        "#Generate line points\n",
        "def line_gen(A,B):\n",
        "  len =10\n",
        "  x_AB = np.zeros((2,len))\n",
        "  lam_1 = np.linspace(0,1,len)\n",
        "  for i in range(len):\n",
        "    temp1 = A + lam_1[i]*(B-A)\n",
        "    x_AB[:,i]= temp1.T\n",
        "  return x_AB\n",
        "\n",
        "\n",
        "def xang(A,B):\n",
        "    theta = (B[1]-A[1])/(B[0]-A[0])\n",
        "    arctan = np.arctan(theta)\n",
        "    arctan *= (180/3.14)\n",
        "    if arctan < 0:\n",
        "        arctan = 180 + arctan\n",
        "    return math.ceil(arctan)\n",
        "\n",
        "x_AB = line_gen(A,B)\n",
        "plt.plot(x_AB[0,:],x_AB[1,:],label=\"line\")\n",
        "print(\"Angle between line and x-axis\",xang(A,B),\"degree\")\n",
        "\n",
        "plt.plot(2,3,'o')\n",
        "plt.plot(5,7,'o')\n",
        "\n",
        "plt.xlabel('$x$')\n",
        "plt.ylabel('$y$')\n",
        "\n",
        "plt.text(2,3,'A(2,3)')\n",
        "plt.text(5,7,'B(5,7)')\n",
        "\n",
        "\n",
        "\n",
        "plt.legend(loc='best')\n",
        "plt.grid() # minor\n",
        "plt.axis('equal')\n"
      ]
    }
  ]
}